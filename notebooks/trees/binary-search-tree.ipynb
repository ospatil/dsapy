{
 "cells": [
  {
   "cell_type": "markdown",
   "id": "1493a366",
   "metadata": {},
   "source": [
    "# Binary search tree\n",
    "\n",
    "* For every node, data on left side is smaller and data on right is greater.\n",
    "* All data is distinct.\n",
    "```sh\n",
    "      50\n",
    "     /  \\\n",
    "    30  70\n",
    "   / \\   / \\\n",
    "  10 40 60 80\n",
    " ```\n",
    "* Time complexity of search in BST: `O(h)` where `h` is the height of tree.\n",
    "* Inorder traversal of BST always results in sorted data.\n",
    "* Smallest data is always leftmost leaf and largest the rightmost leaf.\n",
    "* If keys are in sorted increasing order BST turns into a linked list. Ex: `5, 10, 20, 30` (right-skewed)<br>\n",
    "* If keys are sorted in decreasing order the tree turns into left-skewed tree.\n",
    "  ```sh\n",
    "    5\n",
    "     \\\n",
    "     10\n",
    "      \\\n",
    "      20\n",
    "       \\\n",
    "       40\n",
    "  ```\n",
    "  Ideally, we want balanced BST that allow all operations in `O(log n)` time. Examples - AVL tree, Red-black tree"
   ]
  },
  {
   "cell_type": "code",
   "execution_count": 1,
   "id": "eb7000c9",
   "metadata": {
    "vscode": {
     "languageId": "plaintext"
    }
   },
   "outputs": [],
   "source": [
    "import unittest\n",
    "\n",
    "class BinarySearchTreeTests(unittest.TestCase):\n",
    "    def create_test_bst(self):\n",
    "        \"\"\"\n",
    "              10\n",
    "             /  \\\n",
    "            5   30\n",
    "           /    / \\\n",
    "          2    25 40\n",
    "        \"\"\"\n",
    "        root = Node(10)\n",
    "        root.left = Node(5)\n",
    "        root.left.left = Node(2)\n",
    "        root.right = Node(30)\n",
    "        root.right.left = Node(25)\n",
    "        root.right.right = Node(40)\n",
    "\n",
    "        return root\n",
    "\n",
    "class Node:\n",
    "    def __init__(self, data):\n",
    "        self.data = data\n",
    "        self.left = None\n",
    "        self.right = None"
   ]
  },
  {
   "cell_type": "code",
   "execution_count": 4,
   "id": "6582fdb1-a38a-4637-bac7-0e93e7cd0fe5",
   "metadata": {},
   "outputs": [
    {
     "name": "stderr",
     "output_type": "stream",
     "text": [
      "test_inorder (__main__.BinarySearchTreeTests.test_inorder) ... ok\n",
      "\n",
      "----------------------------------------------------------------------\n",
      "Ran 1 test in 0.001s\n",
      "\n",
      "OK\n"
     ]
    },
    {
     "data": {
      "text/plain": [
       "<unittest.main.TestProgram at 0x1065a84a0>"
      ]
     },
     "execution_count": 4,
     "metadata": {},
     "output_type": "execute_result"
    }
   ],
   "source": [
    "def inorder(root, acc):\n",
    "    if root:\n",
    "        inorder(root.left, acc)\n",
    "        acc.append(root.data)\n",
    "        inorder(root.right, acc)\n",
    "\n",
    "def test_inorder(self):\n",
    "        root = self.create_test_bst()\n",
    "        res = []\n",
    "        inorder(root, res)\n",
    "        self.assertListEqual(res, [2, 5, 10, 25, 30, 40])\n",
    "\n",
    "BinarySearchTreeTests.test_inorder = test_inorder\n",
    "unittest.main(argv=['', 'BinarySearchTreeTests.test_inorder'], verbosity=2, exit=False)\n"
   ]
  },
  {
   "cell_type": "code",
   "execution_count": null,
   "id": "82dfba38-5f3f-4f47-8384-10d0c4a8a107",
   "metadata": {},
   "outputs": [],
   "source": []
  }
 ],
 "metadata": {
  "kernelspec": {
   "display_name": "Python 3 (ipykernel)",
   "language": "python",
   "name": "python3"
  },
  "language_info": {
   "codemirror_mode": {
    "name": "ipython",
    "version": 3
   },
   "file_extension": ".py",
   "mimetype": "text/x-python",
   "name": "python",
   "nbconvert_exporter": "python",
   "pygments_lexer": "ipython3",
   "version": "3.12.4"
  }
 },
 "nbformat": 4,
 "nbformat_minor": 5
}
