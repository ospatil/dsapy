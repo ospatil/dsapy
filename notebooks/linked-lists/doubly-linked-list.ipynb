{
 "cells": [
  {
   "cell_type": "code",
   "execution_count": null,
   "metadata": {},
   "outputs": [],
   "source": [
    "import unittest\n",
    "\n",
    "class DoublyLinkedListTests(unittest.TestCase):\n",
    "    pass\n",
    "\n",
    "class ListNode:\n",
    "     def __init__(self, val=0):\n",
    "         self.val = val\n",
    "         self.prev, self.next = None, None\n",
    "\n",
    "def to_list(head):\n",
    "    ls = []\n",
    "    curr = head.next\n",
    "    while curr:\n",
    "        ls.append(curr.val)\n",
    "        curr = curr.next\n",
    "    return ls"
   ]
  },
  {
   "cell_type": "markdown",
   "metadata": {},
   "source": [
    "We'll use a dummy head for all functions."
   ]
  },
  {
   "cell_type": "code",
   "execution_count": null,
   "metadata": {},
   "outputs": [],
   "source": [
    "def insert_front(head, val):\n",
    "    new = ListNode(val)\n",
    "    new.next = head.next\n",
    "    head.next = new\n",
    "    new.prev = head\n",
    "    if new.next:\n",
    "        new.next.prev = new\n",
    "\n",
    "\n",
    "def test_insert_front(self):\n",
    "    head = ListNode(-1)\n",
    "    insert_front(head, 1)\n",
    "    insert_front(head, 2)\n",
    "    insert_front(head, 3)\n",
    "    assert to_list(head) == [3, 2, 1]\n",
    "\n",
    "DoublyLinkedListTests.test_insert_front = test_insert_front\n",
    "unittest.main(argv=['', 'DoublyLinkedListTests.test_insert_front'], verbosity=2, exit=False)"
   ]
  },
  {
   "cell_type": "code",
   "execution_count": null,
   "metadata": {},
   "outputs": [],
   "source": [
    "def insert_end(head, val):\n",
    "    new = ListNode(val)\n",
    "    curr = head.next\n",
    "    while curr.next:\n",
    "        curr = curr.next\n",
    "    # at this point curr points to last node, add new node after it\n",
    "    curr.next = new\n",
    "    new.prev = curr\n",
    "\n",
    "\n",
    "def test_insert_end(self):\n",
    "    head = ListNode(-1)\n",
    "    insert_end(head, 1)\n",
    "    insert_end(head, 2)\n",
    "    insert_end(head, 3)\n",
    "    assert to_list(head) == [1, 2, 3]\n",
    "\n",
    "DoublyLinkedListTests.test_insert_front = test_insert_front\n",
    "unittest.main(argv=['', 'DoublyLinkedListTests.test_insert_front'], verbosity=2, exit=False)"
   ]
  },
  {
   "cell_type": "code",
   "execution_count": null,
   "metadata": {},
   "outputs": [],
   "source": [
    "def delete_front(head):\n",
    "    if head.next:\n",
    "        head.next = head.next.next\n",
    "        if head.next:\n",
    "            head.next.prev = head\n",
    "\n",
    "\n",
    "def test_delete_front(self):\n",
    "    head = ListNode(-1)\n",
    "    insert_end(head, 1)\n",
    "    insert_end(head, 2)\n",
    "    insert_end(head, 3)\n",
    "    delete_front(head)\n",
    "    assert to_list(head) == [2, 3]\n",
    "\n",
    "DoublyLinkedListTests.test_insert_front = test_insert_front\n",
    "unittest.main(argv=['', 'DoublyLinkedListTests.test_insert_front'], verbosity=2, exit=False)"
   ]
  },
  {
   "cell_type": "code",
   "execution_count": null,
   "metadata": {},
   "outputs": [],
   "source": [
    "def delete_end(head):\n",
    "    curr = head.next\n",
    "    # traverse up to the second last node\n",
    "    while curr.next.next:\n",
    "        curr = curr.next\n",
    "    curr.next = None\n",
    "\n",
    "\n",
    "def test_delete_end(self):\n",
    "    head = ListNode(-1)\n",
    "    insert_end(head, 1)\n",
    "    insert_end(head, 2)\n",
    "    insert_end(head, 3)\n",
    "    delete_end(head)\n",
    "    assert to_list(head) == [1, 2]\n",
    "\n",
    "DoublyLinkedListTests.test_insert_front = test_insert_front\n",
    "unittest.main(argv=['', 'DoublyLinkedListTests.test_insert_front'], verbosity=2, exit=False)"
   ]
  },
  {
   "cell_type": "code",
   "execution_count": null,
   "metadata": {},
   "outputs": [],
   "source": [
    "def reverse(head):\n",
    "    prev, curr = None, head\n",
    "    while curr:\n",
    "        # store prev because when we come out of the loop, curr will be null and prev would be the last node i.e. new head\n",
    "        prev = curr\n",
    "        # in reversing a DLL node, the prev node becomes new next and vice versa. We do that by swapping prev and next.\n",
    "        curr.prev, curr.next = curr.next, curr.prev\n",
    "        # since we swapped prev and next, curr.prev points to the node that was the next node before.\n",
    "        # therefore we do curr = curr.prev which is equivalent to curr = curr.next in SLL.\n",
    "        curr = curr.prev\n",
    "    # at the end of above loop, curr will point to None and prev will point to last node that now becomes the new head of the reversed list\n",
    "    head.next = prev\n",
    "\n",
    "\n",
    "def test_reverse(self):\n",
    "    head = ListNode(-1)\n",
    "    insert_end(head, 1)\n",
    "    insert_end(head, 2)\n",
    "    insert_end(head, 3)\n",
    "    reverse(head)\n",
    "    assert to_list(head) == [3, 2, 1]\n",
    "\n",
    "DoublyLinkedListTests.test_insert_front = test_insert_front\n",
    "unittest.main(argv=['', 'DoublyLinkedListTests.test_insert_front'], verbosity=2, exit=False)"
   ]
  }
 ],
 "metadata": {
  "kernelspec": {
   "display_name": ".venv",
   "language": "python",
   "name": "python3"
  },
  "language_info": {
   "codemirror_mode": {
    "name": "ipython",
    "version": 3
   },
   "file_extension": ".py",
   "mimetype": "text/x-python",
   "name": "python",
   "nbconvert_exporter": "python",
   "pygments_lexer": "ipython3",
   "version": "3.12.4"
  }
 },
 "nbformat": 4,
 "nbformat_minor": 2
}
