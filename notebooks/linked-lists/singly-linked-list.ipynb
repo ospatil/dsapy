{
 "cells": [
  {
   "cell_type": "code",
   "execution_count": null,
   "metadata": {},
   "outputs": [],
   "source": [
    "class ListNode:\n",
    "    def __init__(self, val=0):\n",
    "        self.val = val\n",
    "        self.next = None"
   ]
  },
  {
   "cell_type": "code",
   "execution_count": null,
   "metadata": {},
   "outputs": [],
   "source": [
    "import unittest\n",
    "\n",
    "class TestSinglyLinkedListFunctions(unittest.TestCase):\n",
    "    pass"
   ]
  },
  {
   "cell_type": "markdown",
   "metadata": {},
   "source": [
    "We'll use a dummy head for all the functions."
   ]
  },
  {
   "cell_type": "code",
   "execution_count": null,
   "metadata": {},
   "outputs": [],
   "source": [
    "def to_list(head):\n",
    "    ls = []\n",
    "    curr = head.next\n",
    "    while curr is not None:\n",
    "        ls.append(curr.val)\n",
    "        curr = curr.next\n",
    "    return ls"
   ]
  },
  {
   "cell_type": "code",
   "execution_count": null,
   "metadata": {},
   "outputs": [],
   "source": [
    "def insert_front(head, val):\n",
    "  new = ListNode(val)\n",
    "  new.next = head.next\n",
    "  head.next = new"
   ]
  },
  {
   "cell_type": "code",
   "execution_count": null,
   "metadata": {},
   "outputs": [],
   "source": [
    "def test_insert_front(self):\n",
    "    head = ListNode(-1) # dummy head\n",
    "    insert_front(head, 3)\n",
    "    insert_front(head, 2)\n",
    "    insert_front(head, 1)\n",
    "    ls = to_list(head)\n",
    "    self.assertListEqual(ls, [1, 2, 3])\n",
    "\n",
    "TestSinglyLinkedListFunctions.test_insert_front = test_insert_front\n",
    "unittest.main(argv=['', 'TestSinglyLinkedListFunctions.test_insert_front'], verbosity=2, exit=False)"
   ]
  },
  {
   "cell_type": "code",
   "execution_count": null,
   "metadata": {},
   "outputs": [],
   "source": [
    "def insert_end(head, val):\n",
    "    new = ListNode(val)\n",
    "    curr = head\n",
    "    while curr.next is not None: # traverse to the last node\n",
    "        curr = curr.next\n",
    "    curr.next = new"
   ]
  },
  {
   "cell_type": "code",
   "execution_count": null,
   "metadata": {},
   "outputs": [],
   "source": [
    "def test_insert_end(self):\n",
    "    head = ListNode(-1) # dummy head\n",
    "    insert_end(head, 1)\n",
    "    insert_end(head, 2)\n",
    "    insert_end(head, 3)\n",
    "    ls = to_list(head)\n",
    "    self.assertListEqual(ls, [1, 2, 3])\n",
    "\n",
    "TestSinglyLinkedListFunctions.test_insert_end = test_insert_end\n",
    "unittest.main(argv=['', 'TestSinglyLinkedListFunctions.test_insert_end'], verbosity=2, exit=False)"
   ]
  },
  {
   "cell_type": "code",
   "execution_count": null,
   "metadata": {},
   "outputs": [],
   "source": [
    "def delete_first(head):\n",
    "    if head.next is not None:\n",
    "        head.next = head.next.next"
   ]
  },
  {
   "cell_type": "code",
   "execution_count": null,
   "metadata": {},
   "outputs": [],
   "source": [
    "def test_delete_first(self):\n",
    "    head = ListNode(-1) # dummy head\n",
    "    # add three nodes\n",
    "    insert_end(head, 1)\n",
    "    insert_end(head, 2)\n",
    "    insert_end(head, 3)\n",
    "    # delete first two\n",
    "    delete_first(head)\n",
    "    delete_first(head)\n",
    "    ls = to_list(head)\n",
    "    self.assertListEqual(ls, [3])\n",
    "\n",
    "TestSinglyLinkedListFunctions.test_delete_first = test_delete_first\n",
    "unittest.main(argv=['', 'TestSinglyLinkedListFunctions.test_delete_first'], verbosity=2, exit=False)"
   ]
  },
  {
   "cell_type": "code",
   "execution_count": null,
   "metadata": {},
   "outputs": [],
   "source": [
    "def delete_last(head):\n",
    "    if head.next is None: # this is an empty list\n",
    "        return\n",
    "    else:\n",
    "      curr = head\n",
    "      # we need to stop at second-last node, therefore curr.next.next check\n",
    "      while curr.next.next:\n",
    "        curr = curr.next\n",
    "      curr.next = None"
   ]
  },
  {
   "cell_type": "code",
   "execution_count": null,
   "metadata": {},
   "outputs": [],
   "source": [
    "def test_delete_last(self):\n",
    "    head = ListNode(-1) # dummy head\n",
    "\n",
    "    # test deletion for empty list\n",
    "    delete_last(head)\n",
    "    self.assertIsNone(head.next)\n",
    "\n",
    "    # test deletion for list with one element\n",
    "    insert_end(head, 1)\n",
    "    delete_last(head)\n",
    "    self.assertIsNone(head.next)\n",
    "\n",
    "    # test deletion for list with multiple elements\n",
    "    insert_end(head, 1)\n",
    "    insert_end(head, 2)\n",
    "    insert_end(head, 3)\n",
    "    # delete last two\n",
    "    delete_last(head)\n",
    "    delete_last(head)\n",
    "    ls = to_list(head)\n",
    "    self.assertListEqual(ls, [1])\n",
    "\n",
    "TestSinglyLinkedListFunctions.test_delete_last = test_delete_last\n",
    "unittest.main(argv=['', 'TestSinglyLinkedListFunctions.test_delete_last'], verbosity=2, exit=False)"
   ]
  },
  {
   "cell_type": "code",
   "execution_count": null,
   "metadata": {},
   "outputs": [],
   "source": [
    "# Position is 1 based\n",
    "def insert_at(head, val, position):\n",
    "    new = ListNode(val)\n",
    "    curr = head\n",
    "    # consider the following list: Dummy -> 1 -> 2 -> 3 -> 4\n",
    "    # when we start curr is at position \"Dummy\"\n",
    "    # so to add to 4th position, we need to point to 3rd and curr needs to be moved 3 times\n",
    "    # for pos 3, curr needs to be moved 2 time\n",
    "    # i.e. (pos - 1) times\n",
    "    for _ in range(position - 1):\n",
    "        # the position could be beyond the length of the list, break out so the new node is added at the end\n",
    "        if curr.next is None:\n",
    "            break\n",
    "        curr = curr.next\n",
    "    new.next = curr.next\n",
    "    curr.next = new"
   ]
  },
  {
   "cell_type": "code",
   "execution_count": null,
   "metadata": {},
   "outputs": [],
   "source": [
    "def test_insert_at(self):\n",
    "    head = ListNode(-1) # dummy head\n",
    "\n",
    "    # test insertion at position 1\n",
    "    insert_at(head, 1, 1)\n",
    "    self.assertEqual(head.next.val, 1)\n",
    "    self.assertEqual(head.next.next, None)\n",
    "\n",
    "    # test insertion at position 2\n",
    "    insert_at(head, 2, 2)\n",
    "    self.assertEqual(head.next.next.val, 2)\n",
    "    self.assertEqual(head.next.next.next, None)\n",
    "\n",
    "    # test insertion at position 3\n",
    "    insert_at(head, 3, 3)\n",
    "    self.assertEqual(head.next.next.next.val, 3)\n",
    "    self.assertEqual(head.next.next.next.next, None)\n",
    "\n",
    "    # test insertion at position 5 (out of range), it should be added to the end\n",
    "    insert_at(head, 5, 5)\n",
    "    self.assertEqual(head.next.next.next.next.val, 5)\n",
    "    self.assertEqual(head.next.next.next.next.next, None)\n",
    "\n",
    "    insert_at(head, 100, 1)\n",
    "\n",
    "    ls = to_list(head)\n",
    "    self.assertListEqual(ls, [100, 1, 2, 3, 5])\n",
    "\n",
    "TestSinglyLinkedListFunctions.test_insert_at = test_insert_at\n",
    "unittest.main(argv=['', 'TestSinglyLinkedListFunctions.test_insert_at'], verbosity=2, exit=False)"
   ]
  },
  {
   "cell_type": "code",
   "execution_count": null,
   "metadata": {},
   "outputs": [],
   "source": [
    "# Return the position of val if found else return -1. Position is 1 based.\n",
    "def search(head, val):\n",
    "    pos, curr = 1, head.next\n",
    "    while curr is not None:\n",
    "        if curr.val == val:\n",
    "            return pos\n",
    "        pos += 1\n",
    "        curr = curr.next\n",
    "    return -1"
   ]
  },
  {
   "cell_type": "code",
   "execution_count": null,
   "metadata": {},
   "outputs": [],
   "source": [
    "def test_search(self):\n",
    "    head = ListNode(-1) # dummy head\n",
    "\n",
    "    # test search for empty list\n",
    "    self.assertEqual(search(head, 1), -1)\n",
    "\n",
    "    # test search for list with one element\n",
    "    insert_end(head, 1)\n",
    "    self.assertEqual(search(head, 1), 1)\n",
    "    self.assertEqual(search(head, 2), -1)\n",
    "\n",
    "    # test search for list with multiple elements\n",
    "    insert_end(head, 2)\n",
    "    insert_end(head, 3)\n",
    "    insert_end(head, 4)\n",
    "    self.assertEqual(search(head, 1), 1)\n",
    "    self.assertEqual(search(head, 2), 2)\n",
    "    self.assertEqual(search(head, 3), 3)\n",
    "    self.assertEqual(search(head, 4), 4)\n",
    "    self.assertEqual(search(head, 5), -1)\n",
    "\n",
    "TestSinglyLinkedListFunctions.test_search = test_search\n",
    "unittest.main(argv=['', 'TestSinglyLinkedListFunctions.test_search'], verbosity=2, exit=False)"
   ]
  },
  {
   "cell_type": "code",
   "execution_count": null,
   "metadata": {},
   "outputs": [],
   "source": [
    "def sorted_insert(head, val):\n",
    "    new = ListNode(val)\n",
    "    curr = head\n",
    "    while curr.next is not None and curr.next.val < val:\n",
    "        curr = curr.next\n",
    "    new.next = curr.next\n",
    "    curr.next = new"
   ]
  },
  {
   "cell_type": "code",
   "execution_count": null,
   "metadata": {},
   "outputs": [],
   "source": [
    "def test_sorted_search(self):\n",
    "    head = ListNode(-1) # dummy head\n",
    "\n",
    "    # test insertion in empty list\n",
    "    sorted_insert(head, 2)\n",
    "    self.assertListEqual(to_list(head), [2])\n",
    "\n",
    "    # test insertion at the end\n",
    "    sorted_insert(head, 5)\n",
    "    self.assertListEqual(to_list(head), [2, 5])\n",
    "\n",
    "    # test insertion at the beginning\n",
    "    sorted_insert(head, 1)\n",
    "    self.assertListEqual(to_list(head), [1, 2, 5])\n",
    "\n",
    "    # test insertion in the middle\n",
    "    sorted_insert(head, 3)\n",
    "    self.assertListEqual(to_list(head), [1, 2, 3, 5])\n",
    "\n",
    "    # test insertion of duplicate\n",
    "    sorted_insert(head, 3)\n",
    "    self.assertListEqual(to_list(head), [1, 2, 3, 3, 5])\n",
    "\n",
    "\n",
    "TestSinglyLinkedListFunctions.test_sorted_search = test_sorted_search\n",
    "unittest.main(argv=['', 'TestSinglyLinkedListFunctions.test_sorted_search'], verbosity=2, exit=False)"
   ]
  }
 ],
 "metadata": {
  "kernelspec": {
   "display_name": "Python 3 (ipykernel)",
   "language": "python",
   "name": "python3"
  },
  "language_info": {
   "codemirror_mode": {
    "name": "ipython",
    "version": 3
   },
   "file_extension": ".py",
   "mimetype": "text/x-python",
   "name": "python",
   "nbconvert_exporter": "python",
   "pygments_lexer": "ipython3",
   "version": "3.12.4"
  }
 },
 "nbformat": 4,
 "nbformat_minor": 4
}
